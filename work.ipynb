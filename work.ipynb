{
 "cells": [
  {
   "cell_type": "code",
   "execution_count": 1,
   "metadata": {},
   "outputs": [],
   "source": [
    "import numpy as np\n",
    "import json"
   ]
  },
  {
   "cell_type": "code",
   "execution_count": null,
   "metadata": {},
   "outputs": [],
   "source": [
    "with open('players.json') as f:\n",
    "    rating = json.load(f)"
   ]
  },
  {
   "cell_type": "code",
   "execution_count": 109,
   "metadata": {},
   "outputs": [
    {
     "data": {
      "text/plain": [
       "1600"
      ]
     },
     "execution_count": 109,
     "metadata": {},
     "output_type": "execute_result"
    }
   ],
   "source": [
    "rating['Umberto']"
   ]
  },
  {
   "cell_type": "code",
   "execution_count": 81,
   "metadata": {},
   "outputs": [
    {
     "data": {
      "text/plain": [
       "1000"
      ]
     },
     "execution_count": 81,
     "metadata": {},
     "output_type": "execute_result"
    }
   ],
   "source": [
    "punteggio_umberto = next(player['rating'] for player in data['players'] if player['name'] == 'Umberto')\n",
    "punteggio_umberto"
   ]
  },
  {
   "cell_type": "code",
   "execution_count": 19,
   "metadata": {},
   "outputs": [],
   "source": [
    "def get_probability(r_A: int, r_B: int) -> tuple:\n",
    "    return np.round(1 / (1 + 10 ** ((r_B - r_A) / 400)),3), np.round(1 / (1 + 10 ** ((r_A - r_B) / 400)),3)"
   ]
  },
  {
   "cell_type": "code",
   "execution_count": 20,
   "metadata": {},
   "outputs": [],
   "source": [
    "def get_new_rating(r: int, s: int, p: float, K: int) -> int:\n",
    "    return r + K * (s - p)"
   ]
  },
  {
   "cell_type": "code",
   "execution_count": 95,
   "metadata": {},
   "outputs": [
    {
     "name": "stdout",
     "output_type": "stream",
     "text": [
      "0.76 0.24\n"
     ]
    }
   ],
   "source": [
    "r_A = 1600\n",
    "r_B = 1400\n",
    "K = 32\n",
    "\n",
    "p_A, p_B = get_probability(r_A, r_B)\n",
    "print(p_A, p_B)"
   ]
  },
  {
   "cell_type": "code",
   "execution_count": 96,
   "metadata": {},
   "outputs": [
    {
     "name": "stdout",
     "output_type": "stream",
     "text": [
      "1607.68 1392.32\n"
     ]
    }
   ],
   "source": [
    "s_A = 1\n",
    "s_B = 1 - s_A\n",
    "\n",
    "r_A_new = get_new_rating(r_A, s_A, p_A, K)\n",
    "r_B_new = get_new_rating(r_B, s_B, p_B, K)\n",
    "\n",
    "print(r_A_new, r_B_new)"
   ]
  },
  {
   "cell_type": "code",
   "execution_count": 97,
   "metadata": {},
   "outputs": [],
   "source": [
    "def get_match_result(r_A: int, r_B: int, s: int = 1, K: int = 32) -> tuple:\n",
    "    p_A, p_B = get_probability(r_A, r_B)\n",
    "\n",
    "    print(\"se A vince/perde: +\",K * (1 - p_A),\"/-\", K * (1 - p_B))\n",
    "    print(\"se B vince/perde: +\",K * (1 - p_B),\"/-\", K * (1 - p_A))\n",
    "\n",
    "    r_A_new = get_new_rating(r_A, s, p_A, K)\n",
    "    r_B_new = get_new_rating(r_B, 1 - s, p_B, K)\n",
    "\n",
    "    print(\"new rating:\", r_A_new, r_B_new)\n",
    "\n",
    "    return r_A_new, r_B_new"
   ]
  },
  {
   "cell_type": "code",
   "execution_count": 98,
   "metadata": {},
   "outputs": [
    {
     "name": "stdout",
     "output_type": "stream",
     "text": [
      "se A vince/perde: + 7.68 /- 24.32\n",
      "se B vince/perde: + 24.32 /- 7.68\n",
      "new rating: 1607.68 1392.32\n"
     ]
    },
    {
     "data": {
      "text/plain": [
       "(1607.68, 1392.32)"
      ]
     },
     "execution_count": 98,
     "metadata": {},
     "output_type": "execute_result"
    }
   ],
   "source": [
    "get_match_result(1600, 1400,1)"
   ]
  },
  {
   "cell_type": "code",
   "execution_count": 110,
   "metadata": {},
   "outputs": [],
   "source": [
    "def get_new_elo(dict_elo: dict, player1: str, player2: str, s: int = 1, K: int = 32) -> dict:\n",
    "    r_A = dict_elo[player1]\n",
    "    r_B = dict_elo[player2]\n",
    "\n",
    "\n",
    "    r_A_new, r_B_new = get_match_result(r_A, r_B, s, K)\n",
    "\n",
    "    dict_elo[player1] = r_A_new\n",
    "    dict_elo[player2] = r_B_new\n",
    "\n",
    "    return dict_elo"
   ]
  },
  {
   "cell_type": "code",
   "execution_count": 112,
   "metadata": {},
   "outputs": [
    {
     "name": "stdout",
     "output_type": "stream",
     "text": [
      "se A vince/perde: + 16.0 /- 16.0\n",
      "se B vince/perde: + 16.0 /- 16.0\n",
      "new rating: 1616.0 1584.0\n"
     ]
    },
    {
     "data": {
      "text/plain": [
       "{'Umberto': 1616.0,\n",
       " 'Scavide': 1600,\n",
       " 'Santacat': 1600,\n",
       " 'Mec': 1600,\n",
       " 'Paolo': 1584.0,\n",
       " 'Giacomino': 1600,\n",
       " 'Tomba': 1600,\n",
       " 'Giorgia': 1600,\n",
       " 'Lollo': 1600,\n",
       " 'Nic': 1600,\n",
       " 'Pearson': 1600,\n",
       " 'Mic': 1600}"
      ]
     },
     "execution_count": 112,
     "metadata": {},
     "output_type": "execute_result"
    }
   ],
   "source": [
    "get_new_elo(rating, \"Umberto\", \"Paolo\")"
   ]
  },
  {
   "cell_type": "code",
   "execution_count": 114,
   "metadata": {},
   "outputs": [],
   "source": [
    "# aggiorna il json\n",
    "with open('players.json', 'w') as f:\n",
    "    json.dump(rating, f, indent=4)"
   ]
  },
  {
   "cell_type": "code",
   "execution_count": 2,
   "metadata": {},
   "outputs": [
    {
     "name": "stdout",
     "output_type": "stream",
     "text": [
      "Il rating di Umberto è: 1000\n"
     ]
    }
   ],
   "source": [
    "import json\n",
    "\n",
    "# Carica il file JSON\n",
    "with open('players_2.json') as f:\n",
    "    data = json.load(f)\n",
    "\n",
    "# Trova il rating di Umberto\n",
    "umberto_rating = next((player['rating'] for player in data['players'] if player['name'] == 'Umberto'), None)\n",
    "\n",
    "if umberto_rating is not None:\n",
    "    print(f\"Il rating di Umberto è: {umberto_rating}\")\n",
    "else:\n",
    "    print(\"Umberto non è stato trovato.\")"
   ]
  },
  {
   "cell_type": "code",
   "execution_count": 3,
   "metadata": {},
   "outputs": [
    {
     "data": {
      "text/plain": [
       "{'players': [{'name': 'Umberto',\n",
       "   'rating': 1000,\n",
       "   'games': 0,\n",
       "   'wins': 0,\n",
       "   'losses': 0},\n",
       "  {'name': 'Scavide', 'rating': 1000, 'games': 0, 'wins': 0, 'losses': 0},\n",
       "  {'name': 'Santacat', 'rating': 1000, 'games': 0, 'wins': 0, 'losses': 0},\n",
       "  {'name': 'Mec', 'rating': 1000, 'games': 0, 'wins': 0, 'losses': 0},\n",
       "  {'name': 'Paolo', 'rating': 1000, 'games': 0, 'wins': 0, 'losses': 0},\n",
       "  {'name': 'Giacomino', 'rating': 1000, 'games': 0, 'wins': 0, 'losses': 0},\n",
       "  {'name': 'Tomba', 'rating': 1000, 'games': 0, 'wins': 0, 'losses': 0},\n",
       "  {'name': 'Giorgia', 'rating': 1000, 'games': 0, 'wins': 0, 'losses': 0},\n",
       "  {'name': 'Lollo', 'rating': 1000, 'games': 0, 'wins': 0, 'losses': 0},\n",
       "  {'name': 'Nic', 'rating': 1000, 'games': 0, 'wins': 0, 'losses': 0},\n",
       "  {'name': 'Pearson', 'rating': 1000, 'games': 0, 'wins': 0, 'losses': 0},\n",
       "  {'name': 'Mic', 'rating': 1000, 'games': 0, 'wins': 0, 'losses': 0}]}"
      ]
     },
     "execution_count": 3,
     "metadata": {},
     "output_type": "execute_result"
    }
   ],
   "source": [
    "data"
   ]
  },
  {
   "cell_type": "code",
   "execution_count": 4,
   "metadata": {},
   "outputs": [
    {
     "data": {
      "text/plain": [
       "[{'name': 'Umberto', 'rating': 1000, 'games': 0, 'wins': 0, 'losses': 0},\n",
       " {'name': 'Scavide', 'rating': 1000, 'games': 0, 'wins': 0, 'losses': 0},\n",
       " {'name': 'Santacat', 'rating': 1000, 'games': 0, 'wins': 0, 'losses': 0},\n",
       " {'name': 'Mec', 'rating': 1000, 'games': 0, 'wins': 0, 'losses': 0},\n",
       " {'name': 'Paolo', 'rating': 1000, 'games': 0, 'wins': 0, 'losses': 0},\n",
       " {'name': 'Giacomino', 'rating': 1000, 'games': 0, 'wins': 0, 'losses': 0},\n",
       " {'name': 'Tomba', 'rating': 1000, 'games': 0, 'wins': 0, 'losses': 0},\n",
       " {'name': 'Giorgia', 'rating': 1000, 'games': 0, 'wins': 0, 'losses': 0},\n",
       " {'name': 'Lollo', 'rating': 1000, 'games': 0, 'wins': 0, 'losses': 0},\n",
       " {'name': 'Nic', 'rating': 1000, 'games': 0, 'wins': 0, 'losses': 0},\n",
       " {'name': 'Pearson', 'rating': 1000, 'games': 0, 'wins': 0, 'losses': 0},\n",
       " {'name': 'Mic', 'rating': 1000, 'games': 0, 'wins': 0, 'losses': 0}]"
      ]
     },
     "execution_count": 4,
     "metadata": {},
     "output_type": "execute_result"
    }
   ],
   "source": [
    "data['players']"
   ]
  },
  {
   "cell_type": "code",
   "execution_count": 5,
   "metadata": {},
   "outputs": [],
   "source": [
    "import pandas as pd"
   ]
  },
  {
   "cell_type": "code",
   "execution_count": 6,
   "metadata": {},
   "outputs": [
    {
     "data": {
      "text/html": [
       "<div>\n",
       "<style scoped>\n",
       "    .dataframe tbody tr th:only-of-type {\n",
       "        vertical-align: middle;\n",
       "    }\n",
       "\n",
       "    .dataframe tbody tr th {\n",
       "        vertical-align: top;\n",
       "    }\n",
       "\n",
       "    .dataframe thead th {\n",
       "        text-align: right;\n",
       "    }\n",
       "</style>\n",
       "<table border=\"1\" class=\"dataframe\">\n",
       "  <thead>\n",
       "    <tr style=\"text-align: right;\">\n",
       "      <th></th>\n",
       "      <th>name</th>\n",
       "      <th>rating</th>\n",
       "      <th>games</th>\n",
       "      <th>wins</th>\n",
       "      <th>losses</th>\n",
       "    </tr>\n",
       "  </thead>\n",
       "  <tbody>\n",
       "    <tr>\n",
       "      <th>0</th>\n",
       "      <td>Umberto</td>\n",
       "      <td>1000</td>\n",
       "      <td>0</td>\n",
       "      <td>0</td>\n",
       "      <td>0</td>\n",
       "    </tr>\n",
       "    <tr>\n",
       "      <th>1</th>\n",
       "      <td>Scavide</td>\n",
       "      <td>1000</td>\n",
       "      <td>0</td>\n",
       "      <td>0</td>\n",
       "      <td>0</td>\n",
       "    </tr>\n",
       "    <tr>\n",
       "      <th>2</th>\n",
       "      <td>Santacat</td>\n",
       "      <td>1000</td>\n",
       "      <td>0</td>\n",
       "      <td>0</td>\n",
       "      <td>0</td>\n",
       "    </tr>\n",
       "    <tr>\n",
       "      <th>3</th>\n",
       "      <td>Mec</td>\n",
       "      <td>1000</td>\n",
       "      <td>0</td>\n",
       "      <td>0</td>\n",
       "      <td>0</td>\n",
       "    </tr>\n",
       "    <tr>\n",
       "      <th>4</th>\n",
       "      <td>Paolo</td>\n",
       "      <td>1000</td>\n",
       "      <td>0</td>\n",
       "      <td>0</td>\n",
       "      <td>0</td>\n",
       "    </tr>\n",
       "    <tr>\n",
       "      <th>5</th>\n",
       "      <td>Giacomino</td>\n",
       "      <td>1000</td>\n",
       "      <td>0</td>\n",
       "      <td>0</td>\n",
       "      <td>0</td>\n",
       "    </tr>\n",
       "    <tr>\n",
       "      <th>6</th>\n",
       "      <td>Tomba</td>\n",
       "      <td>1000</td>\n",
       "      <td>0</td>\n",
       "      <td>0</td>\n",
       "      <td>0</td>\n",
       "    </tr>\n",
       "    <tr>\n",
       "      <th>7</th>\n",
       "      <td>Giorgia</td>\n",
       "      <td>1000</td>\n",
       "      <td>0</td>\n",
       "      <td>0</td>\n",
       "      <td>0</td>\n",
       "    </tr>\n",
       "    <tr>\n",
       "      <th>8</th>\n",
       "      <td>Lollo</td>\n",
       "      <td>1000</td>\n",
       "      <td>0</td>\n",
       "      <td>0</td>\n",
       "      <td>0</td>\n",
       "    </tr>\n",
       "    <tr>\n",
       "      <th>9</th>\n",
       "      <td>Nic</td>\n",
       "      <td>1000</td>\n",
       "      <td>0</td>\n",
       "      <td>0</td>\n",
       "      <td>0</td>\n",
       "    </tr>\n",
       "    <tr>\n",
       "      <th>10</th>\n",
       "      <td>Pearson</td>\n",
       "      <td>1000</td>\n",
       "      <td>0</td>\n",
       "      <td>0</td>\n",
       "      <td>0</td>\n",
       "    </tr>\n",
       "    <tr>\n",
       "      <th>11</th>\n",
       "      <td>Mic</td>\n",
       "      <td>1000</td>\n",
       "      <td>0</td>\n",
       "      <td>0</td>\n",
       "      <td>0</td>\n",
       "    </tr>\n",
       "  </tbody>\n",
       "</table>\n",
       "</div>"
      ],
      "text/plain": [
       "         name  rating  games  wins  losses\n",
       "0     Umberto    1000      0     0       0\n",
       "1     Scavide    1000      0     0       0\n",
       "2    Santacat    1000      0     0       0\n",
       "3         Mec    1000      0     0       0\n",
       "4       Paolo    1000      0     0       0\n",
       "5   Giacomino    1000      0     0       0\n",
       "6       Tomba    1000      0     0       0\n",
       "7     Giorgia    1000      0     0       0\n",
       "8       Lollo    1000      0     0       0\n",
       "9         Nic    1000      0     0       0\n",
       "10    Pearson    1000      0     0       0\n",
       "11        Mic    1000      0     0       0"
      ]
     },
     "execution_count": 6,
     "metadata": {},
     "output_type": "execute_result"
    }
   ],
   "source": [
    "df = pd.DataFrame(data['players'])\n",
    "df"
   ]
  },
  {
   "cell_type": "code",
   "execution_count": 9,
   "metadata": {},
   "outputs": [
    {
     "data": {
      "text/plain": [
       "<BarContainer object of 12 artists>"
      ]
     },
     "execution_count": 9,
     "metadata": {},
     "output_type": "execute_result"
    },
    {
     "data": {
      "image/png": "[encoded data removed]",
      "text/plain": [
       "<Figure size 640x480 with 1 Axes>"
      ]
     },
     "metadata": {},
     "output_type": "display_data"
    }
   ],
   "source": [
    "import matplotlib.pyplot as plt\n",
    "\n",
    "plt.bar(df['name'], df['rating'])"
   ]
  },
  {
   "cell_type": "code",
   "execution_count": null,
   "metadata": {},
   "outputs": [],
   "source": []
  }
 ],
 "metadata": {
  "kernelspec": {
   "display_name": "personal",
   "language": "python",
   "name": "python3"
  },
  "language_info": {
   "codemirror_mode": {
    "name": "ipython",
    "version": 3
   },
   "file_extension": ".py",
   "mimetype": "text/x-python",
   "name": "python",
   "nbconvert_exporter": "python",
   "pygments_lexer": "ipython3",
   "version": "3.12.7"
  }
 },
 "nbformat": 4,
 "nbformat_minor": 2
}
